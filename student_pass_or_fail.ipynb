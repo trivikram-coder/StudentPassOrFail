{
 "cells": [
  {
   "cell_type": "code",
   "execution_count": 50,
   "id": "2f34e4b4-627b-4e99-8af7-146843d28142",
   "metadata": {},
   "outputs": [
    {
     "name": "stdout",
     "output_type": "stream",
     "text": [
      "Accuracy : 1.0\n",
      "Confusion matrix : [[1 0]\n",
      " [0 2]]\n",
      "Classification report :               precision    recall  f1-score   support\n",
      "\n",
      "           0       1.00      1.00      1.00         1\n",
      "           1       1.00      1.00      1.00         2\n",
      "\n",
      "    accuracy                           1.00         3\n",
      "   macro avg       1.00      1.00      1.00         3\n",
      "weighted avg       1.00      1.00      1.00         3\n",
      "\n"
     ]
    }
   ],
   "source": [
    "import pandas as pd\n",
    "import matplotlib.pyplot as plt\n",
    "from sklearn.model_selection import train_test_split\n",
    "from sklearn.linear_model import LogisticRegression\n",
    "from sklearn.metrics import accuracy_score,confusion_matrix,classification_report\n",
    "df=pd.read_csv(\"C:\\\\Users\\\\allat\\\\Downloads\\\\student-data.csv\")\n",
    "df.head()\n",
    "X=df[[\"study_hours\",\"previous_marks\"]]\n",
    "y=df[\"pass_or_fail\"]\n",
    "X_train,X_test,y_train,y_test=train_test_split(X,y,test_size=0.2,random_state=42)\n",
    "model=LogisticRegression()\n",
    "#Training the data\n",
    "model.fit(X_train,y_train)\n",
    "#Making \n",
    "y_pred=model.predict(X_test)\n",
    "print(\"Accuracy :\",accuracy_score(y_test,y_pred))\n",
    "print(\"Confusion matrix :\",confusion_matrix(y_test,y_pred))\n",
    "print(\"Classification report :\",classification_report(y_test,y_pred))\n",
    "\n",
    "#Visualization\n",
    "plt.scatter(df[\"study_hours\"],df[\"previous_marks\"],c=df['pass_or_fail'], cmap='coolwarm', edgecolor='k')\n",
    "plt.xlabel(\"Study hours\")\n",
    "plt.ylabel(\"Previous marks\")\n",
    "plt.title(\"Pass/Fail classification\")\n",
    "plt.grid(True)\n",
    "plt.show()"
   ]
  },
  {
   "cell_type": "code",
   "execution_count": null,
   "id": "d002c0a6-3b6e-41d4-9008-8a3ce20cd731",
   "metadata": {},
   "outputs": [],
   "source": []
  }
 ],
 "metadata": {
  "kernelspec": {
   "display_name": "Python 3 (ipykernel)",
   "language": "python",
   "name": "python3"
  },
  "language_info": {
   "codemirror_mode": {
    "name": "ipython",
    "version": 3
   },
   "file_extension": ".py",
   "mimetype": "text/x-python",
   "name": "python",
   "nbconvert_exporter": "python",
   "pygments_lexer": "ipython3",
   "version": "3.12.4"
  }
 },
 "nbformat": 4,
 "nbformat_minor": 5
}
